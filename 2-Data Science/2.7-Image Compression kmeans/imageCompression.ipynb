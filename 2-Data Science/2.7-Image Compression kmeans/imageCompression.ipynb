{
  "cells": [
    {
      "cell_type": "markdown",
      "id": "2b04dd95-2ffb-4fa1-b4b2-091647abb161",
      "metadata": {},
      "source": [
        "<h1 style=\"text-align: center; color: purple; font-size: 60px\"><b>K-Means Algorithm</b></h1>"
      ]
    },
    {
      "cell_type": "markdown",
      "id": "b46220cb",
      "metadata": {},
      "source": [
        "<h2 style=\"text-align: center; color: purple; font-size: 36px\"><b>Brief overview of k-means</b></h2>"
      ]
    },
    {
      "cell_type": "markdown",
      "id": "27c59bcb",
      "metadata": {},
      "source": [
        "<div>\n",
        "K-means is a centroid-based clustering algorithm, where we calculate the distance between each data point and a centroid to assign it to a cluster. The goal is to identify the K number of groups in the dataset.</p>\n",
        "<p>It is an iterative process of assigning each data point to the groups and slowly data points get clustered based on similar features. The objective is to minimize the sum of distances between the data points and the cluster centroid, to identify the correct group each data point should belong to. </p>\n",
        "<p>Here, we divide a data space into K clusters and assign a mean value to each. The data points are placed in the clusters closest to the mean value of that cluster. There are several distance metrics available that can be used to calculate the distance. </p>\n",
        "</div>"
      ]
    },
    {
      "cell_type": "markdown",
      "id": "929bd997",
      "metadata": {},
      "source": [
        "<h2 style=\"text-align: center; color: purple; font-size: 36px\"><b>How does it work?</b></h2>"
      ]
    },
    {
      "cell_type": "markdown",
      "id": "4730db5e",
      "metadata": {},
      "source": [
        "<div>\n",
        "\n",
        "<p>The easiest way to understand how k-means works if to going through the algorithm, which can be broken down into the 4-5 steps shown below. </p>\n",
        "\n",
        "<ol>\n",
        "<li><b>Choosing the number of clusters:</b> The first step is to define the K number of clusters in which we will group the data. Let’s select K=3.</li>\n",
        "\n",
        "<li><b>Initializing centroids: </b> Centroid is the center of a cluster but initially, the exact center of data points will be unknown so, we select random data points and define them as centroids for each cluster. We will initialize 3 centroids in the dataset.</li>\n",
        "<br>\n",
        "<center><img src=\"kmeans-1.png\" alt=\"init-centroids\"></center>\n",
        "<br>\n",
        "\n",
        "<li><b>Assign data points to the nearest cluster: </b> Now that centroids are initialized, the next step is to assign data points X<sub>n</sub> to their closest cluster centroid C<sub>k</sub></li>\n",
        "<br>\n",
        "<center><img src=\"kmeans-2.png\" alt=\"assign-points\"></center>\n",
        "<br>\n",
        "\n",
        "In this step, we will first calculate the distance between data point X and centroid C using Euclidean Distance metric.\n",
        "<br>\n",
        "<center><img src=\"kmeans-3.png\" alt=\"distance-formula\"></center>\n",
        "<br>\n",
        "\n",
        "And then choose the cluster for data points where the distance between the data point and the centroid is minimum. \n",
        "<br>\n",
        "<center><img src=\"kmeans-4.png\" alt=\"centroids-points\"></center>\n",
        "<br>\n",
        "\n",
        "<li><b>Re-initialize centroids  </b> Next, we will re-initialize the centroids by calculating the average of all data points of that cluster.</li>\n",
        "<br>\n",
        "<center><img src=\"kmeans-5.png\" alt=\"centroids-points\"></center>\n",
        "<br>\n",
        "\n",
        "<li><b>Repeat steps 3 and 4 </b> We will keep repeating steps 3 and 4 until we have optimal centroids and the assignments of data points to correct clusters are not changing anymore.</li>\n",
        "<br>\n",
        "<center><img src=\"kmeans-6.png\" alt=\"centroids-points\"></center>\n",
        "\n",
        "</ol>\n",
        "\n",
        "Does this iterative process sound familiar? Well, K-means follows the same approach as Expectation-Maximization(EM). EM is an iterative method to find the maximum likelihood of parameters where the machine learning model depends on unobserved features. This approach consists of two steps Expectation(E) and Maximization(M) and iterates between these two.\n",
        "\n",
        "For K-means, The Expectation(E) step is where each data point is assigned to the most likely cluster and the Maximization(M) step is where the centroids are recomputed using the least square optimization technique.\n",
        "\n",
        "</div>"
      ]
    },
    {
      "cell_type": "code",
      "execution_count": 40,
      "id": "9bbd1023",
      "metadata": {},
      "outputs": [],
      "source": [
        "import numpy as np\n",
        "import matplotlib.pyplot as plt\n",
        "import cv2\n",
        "import warnings as ws\n",
        "\n",
        "ws.filterwarnings(\"ignore\")"
      ]
    },
    {
      "cell_type": "code",
      "execution_count": 41,
      "id": "7b2250f0",
      "metadata": {},
      "outputs": [],
      "source": [
        "# Reads the image file (Inputs: none; Outputs: image)\n",
        "def read_image():\n",
        "    img = cv2.imread('goku.png') \n",
        "    img = cv2.cvtColor(img, cv2.COLOR_BGR2RGB)/255.0\n",
        "    return img\n",
        "\n",
        "# Initialization of the algorithm (Inputs: image, number of clusters; Outputs: points, means)\n",
        "def initialize_means(img, clusters):\n",
        "    points = img.reshape((-1, img.shape[2]))\n",
        "    m, n = points.shape\n",
        "    means = np.zeros((clusters, n))\n",
        " \n",
        "    # random initialization of means.\n",
        "    for i in range(clusters):\n",
        "        rand_indices = np.random.choice(m, size=10, replace=False)\n",
        "        means[i] = np.mean(points[rand_indices], axis=0)\n",
        "    return points, means\n",
        "\n",
        "# Computation of the euclidean distance (Inputs: image, number of clusters; Outputs: points, means)\n",
        "def distance(x1, y1, x2, y2):\n",
        "    dist = np.square(x1 - x2) + np.square(y1 - y2)\n",
        "    dist = np.sqrt(dist)\n",
        "    return dist\n",
        "\n",
        "# K-means iterations (Inputs: points, means, number of clusters; Outputs: means, indexes)\n",
        "def k_means(points, means, clusters):\n",
        "    iterations = 10  \n",
        "    m = points.shape[0]\n",
        "    index = np.zeros(m)\n",
        " \n",
        "    # K-means algorithm.\n",
        "    while iterations > 0:\n",
        "        for j in range(m):\n",
        "            # initialize minimum value to a large value\n",
        "            min_dist = float('inf')\n",
        " \n",
        "            for k in range(clusters):\n",
        "                x1, y1 = points[j, 0], points[j, 1]\n",
        "                x2, y2 = means[k, 0], means[k, 1]\n",
        " \n",
        "                if distance(x1, y1, x2, y2) <= min_dist:\n",
        "                    min_dist = distance(x1, y1, x2, y2)\n",
        "                    index[j] = k\n",
        " \n",
        "        for k in range(clusters):\n",
        "            cluster_points = points[index == k]\n",
        "            if len(cluster_points) > 0:\n",
        "                means[k] = np.mean(cluster_points, axis=0)\n",
        " \n",
        "        iterations -= 1\n",
        " \n",
        "    return means, index\n",
        "\n",
        "# Image compressing (Inputs: indexes, means, image; Outputs: none - shows the final image compressed)\n",
        "def compress_image(means, index, img):\n",
        "\n",
        "    centroid = np.array(means)\n",
        "    recovered = centroid[index.astype(int), :]\n",
        " \n",
        "    # getting back the 3d matrix (row, col, rgb(3))\n",
        "    recovered = recovered.reshape(img.shape)\n",
        " \n",
        "    # plotting the compressed image.\n",
        "    plt.imshow(recovered)\n",
        "    plt.show()"
      ]
    },
    {
      "cell_type": "markdown",
      "id": "55a3c95b",
      "metadata": {},
      "source": [
        "<div style=\"text-align: center; color: purple; font-size: 24px\">Algorithm implementation</div>"
      ]
    },
    {
      "cell_type": "code",
      "execution_count": 43,
      "id": "5c9bdfcb",
      "metadata": {},
      "outputs": [],
      "source": [
        "img = read_image()\n",
        "\n",
        "clusters = 5\n",
        " \n",
        "points, means = initialize_means(img,clusters)\n",
        "means, index = k_means(points, means, clusters)\n",
        "if False:\n",
        "    compress_image(means, index, img)"
      ]
    },
    {
      "cell_type": "markdown",
      "id": "32d94ed7",
      "metadata": {},
      "source": [
        "<h2 style=\"text-align: center; color: purple; font-size: 36px\"><b>Results:</b></h2>\n",
        "<br>\n",
        "<center><img src=\"pikachu_results.png\" alt=\"distance-formula\"></center>\n",
        "<br>\n",
        "<center><img src=\"land_results.png\" alt=\"distance-formula\"></center>\n",
        "<br>\n",
        "<center><img src=\"goku_results.png\" alt=\"distance-formula\"></center>\n",
        "<br>"
      ]
    },
    {
      "cell_type": "markdown",
      "id": "8f2e2954",
      "metadata": {},
      "source": [
        "<div style=\"color: purple; font-size: 24px\">Font: <a href=\"https://neptune.ai/blog/k-means-clustering#:~:text=K%2Dmeans%20is%20a%20centroid,of%20groups%20in%20the%20dataset.\">https://neptune.ai</a></div>"
      ]
    }
  ],
  "metadata": {
    "kernelspec": {
      "display_name": "Python 3",
      "language": "python",
      "name": "python3"
    },
    "language_info": {
      "codemirror_mode": {
        "name": "ipython",
        "version": 3
      },
      "file_extension": ".py",
      "mimetype": "text/x-python",
      "name": "python",
      "nbconvert_exporter": "python",
      "pygments_lexer": "ipython3",
      "version": "3.11.5"
    }
  },
  "nbformat": 4,
  "nbformat_minor": 5
}
