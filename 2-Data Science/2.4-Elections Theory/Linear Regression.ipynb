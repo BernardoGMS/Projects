{
 "cells": [
  {
   "cell_type": "markdown",
   "id": "fced9a7c-bf3f-478c-9860-5d24a88b172b",
   "metadata": {
    "id": "fced9a7c-bf3f-478c-9860-5d24a88b172b"
   },
   "source": [
    "# Elections Theory"
   ]
  },
  {
   "cell_type": "code",
   "execution_count": 198,
   "id": "734a815f-7e3e-4032-9721-eb5409fbc523",
   "metadata": {
    "id": "734a815f-7e3e-4032-9721-eb5409fbc523"
   },
   "outputs": [],
   "source": [
    "import numpy as np\n",
    "import pandas as pd\n",
    "\n",
    "import matplotlib.pyplot as plt\n",
    "import seaborn as sns\n",
    "from sklearn import metrics\n",
    "\n",
    "import warnings\n",
    "warnings.filterwarnings(\"ignore\")\n",
    "sns.set_theme()\n",
    "sns.set(rc={'figure.figsize':(15, 9)})\n",
    "sns.set(font_scale=1.5) "
   ]
  },
  {
   "cell_type": "markdown",
   "id": "7b2d5563-e2df-4934-b313-c15a3fc6e6d2",
   "metadata": {
    "id": "7b2d5563-e2df-4934-b313-c15a3fc6e6d2"
   },
   "source": [
    "## Import data"
   ]
  },
  {
   "cell_type": "code",
   "execution_count": 199,
   "id": "dfd5da95-6fdd-4f31-acb8-9c6e1a424df7",
   "metadata": {
    "id": "dfd5da95-6fdd-4f31-acb8-9c6e1a424df7"
   },
   "outputs": [
    {
     "data": {
      "text/html": [
       "<div>\n",
       "<style scoped>\n",
       "    .dataframe tbody tr th:only-of-type {\n",
       "        vertical-align: middle;\n",
       "    }\n",
       "\n",
       "    .dataframe tbody tr th {\n",
       "        vertical-align: top;\n",
       "    }\n",
       "\n",
       "    .dataframe thead th {\n",
       "        text-align: right;\n",
       "    }\n",
       "</style>\n",
       "<table border=\"1\" class=\"dataframe\">\n",
       "  <thead>\n",
       "    <tr style=\"text-align: right;\">\n",
       "      <th></th>\n",
       "      <th>id</th>\n",
       "      <th>total</th>\n",
       "      <th>to_distribute</th>\n",
       "      <th>n_elements</th>\n",
       "      <th>std_div_mod</th>\n",
       "      <th>len_votes</th>\n",
       "      <th>mean_dev</th>\n",
       "    </tr>\n",
       "  </thead>\n",
       "  <tbody>\n",
       "    <tr>\n",
       "      <th>0</th>\n",
       "      <td>1</td>\n",
       "      <td>35.0</td>\n",
       "      <td>35</td>\n",
       "      <td>608.0</td>\n",
       "      <td>16.884200</td>\n",
       "      <td>4</td>\n",
       "      <td>0.0008</td>\n",
       "    </tr>\n",
       "    <tr>\n",
       "      <th>1</th>\n",
       "      <td>2</td>\n",
       "      <td>35.0</td>\n",
       "      <td>35</td>\n",
       "      <td>613.0</td>\n",
       "      <td>16.884300</td>\n",
       "      <td>4</td>\n",
       "      <td>0.0037</td>\n",
       "    </tr>\n",
       "    <tr>\n",
       "      <th>2</th>\n",
       "      <td>3</td>\n",
       "      <td>35.0</td>\n",
       "      <td>35</td>\n",
       "      <td>610.0</td>\n",
       "      <td>16.993600</td>\n",
       "      <td>4</td>\n",
       "      <td>0.0012</td>\n",
       "    </tr>\n",
       "    <tr>\n",
       "      <th>3</th>\n",
       "      <td>4</td>\n",
       "      <td>35.0</td>\n",
       "      <td>35</td>\n",
       "      <td>612.0</td>\n",
       "      <td>17.100700</td>\n",
       "      <td>4</td>\n",
       "      <td>0.0025</td>\n",
       "    </tr>\n",
       "    <tr>\n",
       "      <th>4</th>\n",
       "      <td>5</td>\n",
       "      <td>33.0</td>\n",
       "      <td>35</td>\n",
       "      <td>607.0</td>\n",
       "      <td>16.777782</td>\n",
       "      <td>4</td>\n",
       "      <td>0.0019</td>\n",
       "    </tr>\n",
       "  </tbody>\n",
       "</table>\n",
       "</div>"
      ],
      "text/plain": [
       "   id  total  to_distribute  n_elements  std_div_mod  len_votes  mean_dev\n",
       "0   1   35.0             35       608.0    16.884200          4    0.0008\n",
       "1   2   35.0             35       613.0    16.884300          4    0.0037\n",
       "2   3   35.0             35       610.0    16.993600          4    0.0012\n",
       "3   4   35.0             35       612.0    17.100700          4    0.0025\n",
       "4   5   33.0             35       607.0    16.777782          4    0.0019"
      ]
     },
     "execution_count": 199,
     "metadata": {},
     "output_type": "execute_result"
    }
   ],
   "source": [
    "jef_df = pd.read_csv('data/jef_data.csv')\n",
    "jef_df.head()"
   ]
  },
  {
   "cell_type": "markdown",
   "id": "62a6d5a1-6adf-4f66-bd9d-911a0e07c85a",
   "metadata": {
    "id": "62a6d5a1-6adf-4f66-bd9d-911a0e07c85a"
   },
   "source": [
    "1. Counting how many entries have `to_distribute` different from `total`."
   ]
  },
  {
   "cell_type": "code",
   "execution_count": 205,
   "id": "5d2a97f7",
   "metadata": {},
   "outputs": [],
   "source": [
    "jef_df[\"total\"]=jef_df[\"total\"].astype(np.int32)"
   ]
  },
  {
   "cell_type": "code",
   "execution_count": 206,
   "id": "5da7c43f",
   "metadata": {},
   "outputs": [
    {
     "data": {
      "text/plain": [
       "3141"
      ]
     },
     "execution_count": 206,
     "metadata": {},
     "output_type": "execute_result"
    }
   ],
   "source": [
    "jef_df[jef_df[\"total\"]-jef_df[\"to_distribute\"]!=0].shape[0]"
   ]
  },
  {
   "cell_type": "code",
   "execution_count": 207,
   "id": "681db615",
   "metadata": {},
   "outputs": [],
   "source": [
    "jef_df_cleaned=jef_df[~(jef_df[\"total\"]-jef_df[\"to_distribute\"]!=0)]"
   ]
  },
  {
   "cell_type": "code",
   "execution_count": 208,
   "id": "01a5ef80",
   "metadata": {},
   "outputs": [
    {
     "name": "stdout",
     "output_type": "stream",
     "text": [
      "<class 'pandas.core.frame.DataFrame'>\n",
      "Index: 6859 entries, 0 to 9999\n",
      "Data columns (total 7 columns):\n",
      " #   Column         Non-Null Count  Dtype  \n",
      "---  ------         --------------  -----  \n",
      " 0   id             6859 non-null   int64  \n",
      " 1   total          6859 non-null   int32  \n",
      " 2   to_distribute  6859 non-null   int64  \n",
      " 3   n_elements     6859 non-null   float64\n",
      " 4   std_div_mod    6859 non-null   float64\n",
      " 5   len_votes      6859 non-null   int64  \n",
      " 6   mean_dev       6859 non-null   float64\n",
      "dtypes: float64(3), int32(1), int64(3)\n",
      "memory usage: 401.9 KB\n"
     ]
    }
   ],
   "source": [
    "jef_df_cleaned.info()"
   ]
  },
  {
   "cell_type": "code",
   "execution_count": 209,
   "id": "3ad8effe",
   "metadata": {},
   "outputs": [
    {
     "name": "stdout",
     "output_type": "stream",
     "text": [
      "Divisor Prd maximo: 17.8\n",
      "Divisor Prd minimo: 17.228571428571428\n",
      "n_elements maximo: 623.0\n",
      "n_elements minimo: 603.0\n",
      "mean_dev maxima: 0.0045\n",
      "mean_dev minima: 0.0006\n"
     ]
    }
   ],
   "source": [
    "jef_df_cleaned[\"n_elements_per_distr\"] = jef_df_cleaned[\"n_elements\"] / jef_df_cleaned[\"to_distribute\"]\n",
    "print(f\"Divisor Prd maximo: {jef_df_cleaned['n_elements_per_distr'].max()}\")\n",
    "print(f\"Divisor Prd minimo: {jef_df_cleaned['n_elements_per_distr'].min()}\")\n",
    "print(f\"n_elements maximo: {jef_df_cleaned['n_elements'].max()}\")\n",
    "print(f\"n_elements minimo: {jef_df_cleaned['n_elements'].min()}\")\n",
    "print(f\"mean_dev maxima: {jef_df_cleaned['mean_dev'].max()}\")\n",
    "print(f\"mean_dev minima: {jef_df_cleaned['mean_dev'].min()}\")"
   ]
  },
  {
   "cell_type": "code",
   "execution_count": 210,
   "id": "bc68c41c",
   "metadata": {},
   "outputs": [],
   "source": [
    "jef_df_cleaned[\"n_els_per_distr_cat\"] = np.floor(jef_df_cleaned[\"n_elements_per_distr\"])"
   ]
  },
  {
   "cell_type": "markdown",
   "id": "97b624ad",
   "metadata": {},
   "source": [
    "2. Developing the model."
   ]
  },
  {
   "cell_type": "code",
   "execution_count": 212,
   "id": "63a94e5d",
   "metadata": {},
   "outputs": [
    {
     "data": {
      "text/html": [
       "<div>\n",
       "<style scoped>\n",
       "    .dataframe tbody tr th:only-of-type {\n",
       "        vertical-align: middle;\n",
       "    }\n",
       "\n",
       "    .dataframe tbody tr th {\n",
       "        vertical-align: top;\n",
       "    }\n",
       "\n",
       "    .dataframe thead th {\n",
       "        text-align: right;\n",
       "    }\n",
       "</style>\n",
       "<table border=\"1\" class=\"dataframe\">\n",
       "  <thead>\n",
       "    <tr style=\"text-align: right;\">\n",
       "      <th></th>\n",
       "      <th>id</th>\n",
       "      <th>total</th>\n",
       "      <th>to_distribute</th>\n",
       "      <th>n_elements</th>\n",
       "      <th>std_div_mod</th>\n",
       "      <th>len_votes</th>\n",
       "      <th>mean_dev</th>\n",
       "      <th>n_elements_per_distr</th>\n",
       "      <th>n_els_per_distr_cat</th>\n",
       "    </tr>\n",
       "  </thead>\n",
       "  <tbody>\n",
       "    <tr>\n",
       "      <th>0</th>\n",
       "      <td>1</td>\n",
       "      <td>35</td>\n",
       "      <td>35</td>\n",
       "      <td>608.0</td>\n",
       "      <td>16.8842</td>\n",
       "      <td>4</td>\n",
       "      <td>0.0008</td>\n",
       "      <td>17.371429</td>\n",
       "      <td>17.0</td>\n",
       "    </tr>\n",
       "    <tr>\n",
       "      <th>1</th>\n",
       "      <td>2</td>\n",
       "      <td>35</td>\n",
       "      <td>35</td>\n",
       "      <td>613.0</td>\n",
       "      <td>16.8843</td>\n",
       "      <td>4</td>\n",
       "      <td>0.0037</td>\n",
       "      <td>17.514286</td>\n",
       "      <td>17.0</td>\n",
       "    </tr>\n",
       "    <tr>\n",
       "      <th>2</th>\n",
       "      <td>3</td>\n",
       "      <td>35</td>\n",
       "      <td>35</td>\n",
       "      <td>610.0</td>\n",
       "      <td>16.9936</td>\n",
       "      <td>4</td>\n",
       "      <td>0.0012</td>\n",
       "      <td>17.428571</td>\n",
       "      <td>17.0</td>\n",
       "    </tr>\n",
       "    <tr>\n",
       "      <th>3</th>\n",
       "      <td>4</td>\n",
       "      <td>35</td>\n",
       "      <td>35</td>\n",
       "      <td>612.0</td>\n",
       "      <td>17.1007</td>\n",
       "      <td>4</td>\n",
       "      <td>0.0025</td>\n",
       "      <td>17.485714</td>\n",
       "      <td>17.0</td>\n",
       "    </tr>\n",
       "    <tr>\n",
       "      <th>5</th>\n",
       "      <td>6</td>\n",
       "      <td>35</td>\n",
       "      <td>35</td>\n",
       "      <td>612.0</td>\n",
       "      <td>16.9957</td>\n",
       "      <td>4</td>\n",
       "      <td>0.0016</td>\n",
       "      <td>17.485714</td>\n",
       "      <td>17.0</td>\n",
       "    </tr>\n",
       "  </tbody>\n",
       "</table>\n",
       "</div>"
      ],
      "text/plain": [
       "   id  total  to_distribute  n_elements  std_div_mod  len_votes  mean_dev  \\\n",
       "0   1     35             35       608.0      16.8842          4    0.0008   \n",
       "1   2     35             35       613.0      16.8843          4    0.0037   \n",
       "2   3     35             35       610.0      16.9936          4    0.0012   \n",
       "3   4     35             35       612.0      17.1007          4    0.0025   \n",
       "5   6     35             35       612.0      16.9957          4    0.0016   \n",
       "\n",
       "   n_elements_per_distr  n_els_per_distr_cat  \n",
       "0             17.371429                 17.0  \n",
       "1             17.514286                 17.0  \n",
       "2             17.428571                 17.0  \n",
       "3             17.485714                 17.0  \n",
       "5             17.485714                 17.0  "
      ]
     },
     "execution_count": 212,
     "metadata": {},
     "output_type": "execute_result"
    }
   ],
   "source": [
    "df_to_study = jef_df_cleaned[(jef_df_cleaned[\"to_distribute\"]==35) & (jef_df_cleaned[\"len_votes\"]==4)]\n",
    "df_to_study.head()"
   ]
  },
  {
   "cell_type": "code",
   "execution_count": 217,
   "id": "50a7d958-0796-48e4-a8fd-d9caeb7632b1",
   "metadata": {
    "id": "50a7d958-0796-48e4-a8fd-d9caeb7632b1"
   },
   "outputs": [
    {
     "name": "stdout",
     "output_type": "stream",
     "text": [
      "                            OLS Regression Results                            \n",
      "==============================================================================\n",
      "Dep. Variable:            std_div_mod   R-squared:                       0.716\n",
      "Model:                            OLS   Adj. R-squared:                  0.716\n",
      "Method:                 Least Squares   F-statistic:                 1.725e+04\n",
      "Date:                Sat, 10 Aug 2024   Prob (F-statistic):               0.00\n",
      "Time:                        12:13:03   Log-Likelihood:                 8865.8\n",
      "No. Observations:                6859   AIC:                        -1.773e+04\n",
      "Df Residuals:                    6857   BIC:                        -1.771e+04\n",
      "Df Model:                           1                                         \n",
      "Covariance Type:            nonrobust                                         \n",
      "==============================================================================\n",
      "                 coef    std err          t      P>|t|      [0.025      0.975]\n",
      "------------------------------------------------------------------------------\n",
      "const         -3.3957      0.155    -21.953      0.000      -3.699      -3.093\n",
      "n_elements     0.0332      0.000    131.348      0.000       0.033       0.034\n",
      "==============================================================================\n",
      "Omnibus:                       84.251   Durbin-Watson:                   1.981\n",
      "Prob(Omnibus):                  0.000   Jarque-Bera (JB):               76.620\n",
      "Skew:                          -0.215   Prob(JB):                     2.30e-17\n",
      "Kurtosis:                       2.710   Cond. No.                     1.18e+05\n",
      "==============================================================================\n",
      "\n",
      "Notes:\n",
      "[1] Standard Errors assume that the covariance matrix of the errors is correctly specified.\n",
      "[2] The condition number is large, 1.18e+05. This might indicate that there are\n",
      "strong multicollinearity or other numerical problems.\n"
     ]
    }
   ],
   "source": [
    "import statsmodels.api as sm\n",
    "import sklearn.metrics as sk\n",
    "\n",
    "Y = df_to_study['std_div_mod']\n",
    "X = df_to_study['n_elements']\n",
    "X = sm.add_constant(X)   # add a constant to the model\n",
    "model = sm.OLS(Y,X)\n",
    "results = model.fit()\n",
    "print(results.summary())"
   ]
  },
  {
   "cell_type": "markdown",
   "id": "1c567dad-9583-4731-aafb-2e887d461403",
   "metadata": {
    "id": "1c567dad-9583-4731-aafb-2e887d461403"
   },
   "source": [
    "3. Correlation between the target and remaining features."
   ]
  },
  {
   "cell_type": "code",
   "execution_count": 214,
   "id": "3a10ddbb",
   "metadata": {},
   "outputs": [],
   "source": [
    "Y = df_to_study['std_div_mod']\n",
    "X = df_to_study['n_elements']"
   ]
  },
  {
   "cell_type": "code",
   "execution_count": 215,
   "id": "e48277dc",
   "metadata": {},
   "outputs": [
    {
     "data": {
      "text/plain": [
       "<seaborn.axisgrid.PairGrid at 0x15edb17fb50>"
      ]
     },
     "execution_count": 215,
     "metadata": {},
     "output_type": "execute_result"
    },
    {
     "data": {
      "image/png": "[encoded data removed]",
      "text/plain": [
       "<Figure size 800x400 with 2 Axes>"
      ]
     },
     "metadata": {},
     "output_type": "display_data"
    }
   ],
   "source": [
    "# Visualise scatter plot of each one of the dependent variables separately VS dependent variable Y\n",
    "sns.pairplot(df_to_study, x_vars=['n_elements','n_elements'], y_vars = 'std_div_mod', size = 4, kind = 'scatter' )"
   ]
  },
  {
   "cell_type": "code",
   "execution_count": null,
   "id": "a003f333",
   "metadata": {},
   "outputs": [],
   "source": [
    "#total\tto_distribute\tn_elements\tstd_div_mod\tlen_votes"
   ]
  },
  {
   "cell_type": "code",
   "execution_count": 216,
   "id": "523efe76",
   "metadata": {},
   "outputs": [
    {
     "data": {
      "text/plain": [
       "<Axes: xlabel='n_elements', ylabel='std_div_mod'>"
      ]
     },
     "execution_count": 216,
     "metadata": {},
     "output_type": "execute_result"
    },
    {
     "data": {
      "image/png": "[encoded data removed]",
      "text/plain": [
       "<Figure size 1500x900 with 1 Axes>"
      ]
     },
     "metadata": {},
     "output_type": "display_data"
    }
   ],
   "source": [
    "sns.scatterplot(data=df_to_study,x='n_elements',y='std_div_mod',hue='to_distribute')"
   ]
  },
  {
   "cell_type": "code",
   "execution_count": 124,
   "id": "55452dd0",
   "metadata": {},
   "outputs": [
    {
     "data": {
      "text/html": [
       "<table class=\"simpletable\">\n",
       "<caption>OLS Regression Results</caption>\n",
       "<tr>\n",
       "  <th>Dep. Variable:</th>     <td>happiness_score</td> <th>  R-squared:         </th> <td>   0.785</td>\n",
       "</tr>\n",
       "<tr>\n",
       "  <th>Model:</th>                   <td>OLS</td>       <th>  Adj. R-squared:    </th> <td>   0.775</td>\n",
       "</tr>\n",
       "<tr>\n",
       "  <th>Method:</th>             <td>Least Squares</td>  <th>  F-statistic:       </th> <td>   82.10</td>\n",
       "</tr>\n",
       "<tr>\n",
       "  <th>Date:</th>             <td>Sat, 28 Oct 2023</td> <th>  Prob (F-statistic):</th> <td>3.39e-29</td>\n",
       "</tr>\n",
       "<tr>\n",
       "  <th>Time:</th>                 <td>17:45:14</td>     <th>  Log-Likelihood:    </th> <td> -426.46</td>\n",
       "</tr>\n",
       "<tr>\n",
       "  <th>No. Observations:</th>      <td>    95</td>      <th>  AIC:               </th> <td>   862.9</td>\n",
       "</tr>\n",
       "<tr>\n",
       "  <th>Df Residuals:</th>          <td>    90</td>      <th>  BIC:               </th> <td>   875.7</td>\n",
       "</tr>\n",
       "<tr>\n",
       "  <th>Df Model:</th>              <td>     4</td>      <th>                     </th>     <td> </td>   \n",
       "</tr>\n",
       "<tr>\n",
       "  <th>Covariance Type:</th>      <td>nonrobust</td>    <th>                     </th>     <td> </td>   \n",
       "</tr>\n",
       "</table>\n",
       "<table class=\"simpletable\">\n",
       "<tr>\n",
       "         <td></td>           <th>coef</th>     <th>std err</th>      <th>t</th>      <th>P>|t|</th>  <th>[0.025</th>    <th>0.975]</th>  \n",
       "</tr>\n",
       "<tr>\n",
       "  <th>const</th>          <td>    1.3763</td> <td>   38.767</td> <td>    0.036</td> <td> 0.972</td> <td>  -75.642</td> <td>   78.395</td>\n",
       "</tr>\n",
       "<tr>\n",
       "  <th>social_support</th> <td>   -0.5119</td> <td>    0.073</td> <td>   -7.025</td> <td> 0.000</td> <td>   -0.657</td> <td>   -0.367</td>\n",
       "</tr>\n",
       "<tr>\n",
       "  <th>freedom</th>        <td>   -0.1786</td> <td>    0.060</td> <td>   -2.966</td> <td> 0.004</td> <td>   -0.298</td> <td>   -0.059</td>\n",
       "</tr>\n",
       "<tr>\n",
       "  <th>generosity</th>     <td>   -0.0518</td> <td>    0.061</td> <td>   -0.847</td> <td> 0.399</td> <td>   -0.173</td> <td>    0.070</td>\n",
       "</tr>\n",
       "<tr>\n",
       "  <th>life_exp</th>       <td>    1.8109</td> <td>    0.459</td> <td>    3.942</td> <td> 0.000</td> <td>    0.898</td> <td>    2.724</td>\n",
       "</tr>\n",
       "</table>\n",
       "<table class=\"simpletable\">\n",
       "<tr>\n",
       "  <th>Omnibus:</th>       <td> 1.025</td> <th>  Durbin-Watson:     </th> <td>   1.871</td>\n",
       "</tr>\n",
       "<tr>\n",
       "  <th>Prob(Omnibus):</th> <td> 0.599</td> <th>  Jarque-Bera (JB):  </th> <td>   0.523</td>\n",
       "</tr>\n",
       "<tr>\n",
       "  <th>Skew:</th>          <td>-0.042</td> <th>  Prob(JB):          </th> <td>   0.770</td>\n",
       "</tr>\n",
       "<tr>\n",
       "  <th>Kurtosis:</th>      <td> 3.354</td> <th>  Cond. No.          </th> <td>2.84e+03</td>\n",
       "</tr>\n",
       "</table><br/><br/>Notes:<br/>[1] Standard Errors assume that the covariance matrix of the errors is correctly specified.<br/>[2] The condition number is large, 2.84e+03. This might indicate that there are<br/>strong multicollinearity or other numerical problems."
      ],
      "text/latex": [
       "\\begin{center}\n",
       "\\begin{tabular}{lclc}\n",
       "\\toprule\n",
       "\\textbf{Dep. Variable:}    & happiness\\_score & \\textbf{  R-squared:         } &     0.785   \\\\\n",
       "\\textbf{Model:}            &       OLS        & \\textbf{  Adj. R-squared:    } &     0.775   \\\\\n",
       "\\textbf{Method:}           &  Least Squares   & \\textbf{  F-statistic:       } &     82.10   \\\\\n",
       "\\textbf{Date:}             & Sat, 28 Oct 2023 & \\textbf{  Prob (F-statistic):} &  3.39e-29   \\\\\n",
       "\\textbf{Time:}             &     17:45:14     & \\textbf{  Log-Likelihood:    } &   -426.46   \\\\\n",
       "\\textbf{No. Observations:} &          95      & \\textbf{  AIC:               } &     862.9   \\\\\n",
       "\\textbf{Df Residuals:}     &          90      & \\textbf{  BIC:               } &     875.7   \\\\\n",
       "\\textbf{Df Model:}         &           4      & \\textbf{                     } &             \\\\\n",
       "\\textbf{Covariance Type:}  &    nonrobust     & \\textbf{                     } &             \\\\\n",
       "\\bottomrule\n",
       "\\end{tabular}\n",
       "\\begin{tabular}{lcccccc}\n",
       "                         & \\textbf{coef} & \\textbf{std err} & \\textbf{t} & \\textbf{P$> |$t$|$} & \\textbf{[0.025} & \\textbf{0.975]}  \\\\\n",
       "\\midrule\n",
       "\\textbf{const}           &       1.3763  &       38.767     &     0.036  &         0.972        &      -75.642    &       78.395     \\\\\n",
       "\\textbf{social\\_support} &      -0.5119  &        0.073     &    -7.025  &         0.000        &       -0.657    &       -0.367     \\\\\n",
       "\\textbf{freedom}         &      -0.1786  &        0.060     &    -2.966  &         0.004        &       -0.298    &       -0.059     \\\\\n",
       "\\textbf{generosity}      &      -0.0518  &        0.061     &    -0.847  &         0.399        &       -0.173    &        0.070     \\\\\n",
       "\\textbf{life\\_exp}       &       1.8109  &        0.459     &     3.942  &         0.000        &        0.898    &        2.724     \\\\\n",
       "\\bottomrule\n",
       "\\end{tabular}\n",
       "\\begin{tabular}{lclc}\n",
       "\\textbf{Omnibus:}       &  1.025 & \\textbf{  Durbin-Watson:     } &    1.871  \\\\\n",
       "\\textbf{Prob(Omnibus):} &  0.599 & \\textbf{  Jarque-Bera (JB):  } &    0.523  \\\\\n",
       "\\textbf{Skew:}          & -0.042 & \\textbf{  Prob(JB):          } &    0.770  \\\\\n",
       "\\textbf{Kurtosis:}      &  3.354 & \\textbf{  Cond. No.          } & 2.84e+03  \\\\\n",
       "\\bottomrule\n",
       "\\end{tabular}\n",
       "%\\caption{OLS Regression Results}\n",
       "\\end{center}\n",
       "\n",
       "Notes: \\newline\n",
       " [1] Standard Errors assume that the covariance matrix of the errors is correctly specified. \\newline\n",
       " [2] The condition number is large, 2.84e+03. This might indicate that there are \\newline\n",
       " strong multicollinearity or other numerical problems."
      ],
      "text/plain": [
       "<class 'statsmodels.iolib.summary.Summary'>\n",
       "\"\"\"\n",
       "                            OLS Regression Results                            \n",
       "==============================================================================\n",
       "Dep. Variable:        happiness_score   R-squared:                       0.785\n",
       "Model:                            OLS   Adj. R-squared:                  0.775\n",
       "Method:                 Least Squares   F-statistic:                     82.10\n",
       "Date:                Sat, 28 Oct 2023   Prob (F-statistic):           3.39e-29\n",
       "Time:                        17:45:14   Log-Likelihood:                -426.46\n",
       "No. Observations:                  95   AIC:                             862.9\n",
       "Df Residuals:                      90   BIC:                             875.7\n",
       "Df Model:                           4                                         \n",
       "Covariance Type:            nonrobust                                         \n",
       "==================================================================================\n",
       "                     coef    std err          t      P>|t|      [0.025      0.975]\n",
       "----------------------------------------------------------------------------------\n",
       "const              1.3763     38.767      0.036      0.972     -75.642      78.395\n",
       "social_support    -0.5119      0.073     -7.025      0.000      -0.657      -0.367\n",
       "freedom           -0.1786      0.060     -2.966      0.004      -0.298      -0.059\n",
       "generosity        -0.0518      0.061     -0.847      0.399      -0.173       0.070\n",
       "life_exp           1.8109      0.459      3.942      0.000       0.898       2.724\n",
       "==============================================================================\n",
       "Omnibus:                        1.025   Durbin-Watson:                   1.871\n",
       "Prob(Omnibus):                  0.599   Jarque-Bera (JB):                0.523\n",
       "Skew:                          -0.042   Prob(JB):                        0.770\n",
       "Kurtosis:                       3.354   Cond. No.                     2.84e+03\n",
       "==============================================================================\n",
       "\n",
       "Notes:\n",
       "[1] Standard Errors assume that the covariance matrix of the errors is correctly specified.\n",
       "[2] The condition number is large, 2.84e+03. This might indicate that there are\n",
       "strong multicollinearity or other numerical problems.\n",
       "\"\"\""
      ]
     },
     "execution_count": 124,
     "metadata": {},
     "output_type": "execute_result"
    }
   ],
   "source": [
    "from sklearn.model_selection import train_test_split\n",
    "\n",
    "# Perform Linear Regression\n",
    "X_train, X_test, Y_train, Y_test = train_test_split(X, Y, test_size=0.33, random_state=42)\n",
    "\n",
    "# Add a constant to get an intercept\n",
    "X_train_sm = sm.add_constant(X_train)\n",
    "\n",
    "# Fit the regression line using 'OLS'\n",
    "model_train = sm.OLS(Y_train,X_train_sm)\n",
    "results_train = model_train.fit()\n",
    "\n",
    "# Show model's summary \n",
    "results_train.summary()"
   ]
  },
  {
   "cell_type": "code",
   "execution_count": 58,
   "id": "85cc282b",
   "metadata": {},
   "outputs": [],
   "source": [
    "# Performing predictions on the test set\n",
    "# Add a constant to X_test\n",
    "X_test_sm = sm.add_constant(X_test)"
   ]
  },
  {
   "cell_type": "code",
   "execution_count": 127,
   "id": "41358a3e",
   "metadata": {},
   "outputs": [
    {
     "name": "stdout",
     "output_type": "stream",
     "text": [
      "R-square train set: 0.7849\n",
      "R-square test set: 0.7872\n",
      "Both values indicate that the model is a good fit.\n",
      "R: R-square train < R-square test --> It means that the training data doesn't overfits the model.\n"
     ]
    }
   ],
   "source": [
    "# Predict the Y values corresponding to X_test_sm\n",
    "pred_test = results_train.predict(X_test_sm)\n",
    "\n",
    "# R-squared value from train model and from the preditected Y from test set\n",
    "print(f\"R-square train set: {round(results_train.rsquared,4)}\")\n",
    "print(f\"R-square test set: {round(sk.r2_score(Y_test,pred_test),4)}\")\n",
    "print(f\"Both values indicate that the model is a good fit.\")\n",
    "if results_train.rsquared > sk.r2_score(Y_test,pred_test):\n",
    "    print(\"R: R-square train > R-square test --> The model is overfitting.\")\n",
    "else:\n",
    "    print(\"R: R-square train < R-square test --> It means that the training data doesn't overfits the model.\")\n",
    "\n"
   ]
  },
  {
   "cell_type": "markdown",
   "id": "3feb419a-e0ae-4805-aec4-34523c4e7276",
   "metadata": {
    "id": "3feb419a-e0ae-4805-aec4-34523c4e7276"
   },
   "source": [
    "10. Using the same model from the previous question, **calculate the MAE on the testing set and report it on the answers Sheet.** Are you satisfied with the model's performance?"
   ]
  },
  {
   "cell_type": "code",
   "execution_count": 62,
   "id": "48aebae2-1601-4a22-8703-a8f01d3f954d",
   "metadata": {
    "id": "48aebae2-1601-4a22-8703-a8f01d3f954d"
   },
   "outputs": [
    {
     "name": "stdout",
     "output_type": "stream",
     "text": [
      "Naïve Training MAE: 40.38\n",
      "Training MAE: 16.92\n",
      "MASE: 0.419 --> MASE < 1 --> algorithm is performing fine compared with naive forecast\n"
     ]
    },
    {
     "data": {
      "image/png": "[encoded data removed]",
      "text/plain": [
       "<Figure size 1500x900 with 1 Axes>"
      ]
     },
     "metadata": {},
     "output_type": "display_data"
    }
   ],
   "source": [
    "def mae(Y, Y_hat): \n",
    "    return round(np.mean(np.abs(Y - Y_hat)), 2)\n",
    "\n",
    "#Using train data set\n",
    "pred_train = results_train.predict(X_train_sm)\n",
    "\n",
    "print(f'Naïve Training MAE: {mae(Y_train, np.mean(Y_train))}') \n",
    "print(f'Training MAE: {mae(Y_train, pred_train)}') \n",
    "mase_train = round(mae(Y_train, pred_train)/mae(Y_train, np.mean(Y_train)),4)\n",
    "if (mase_train>1):\n",
    "    print(f\"MASE: {mase_train} --> MASE > 1 --> algorithm is performing poorly compared with naive forecast\")\n",
    "else:\n",
    "    print(f\"MASE: {mase_train} --> MASE < 1 --> algorithm is performing fine compared with naive forecast\")\n",
    "\n",
    "sns.histplot(Y_train - pred_train).set_title(\"Distribution of errors (train)\", size=16)\n",
    "plt.show()"
   ]
  },
  {
   "cell_type": "code",
   "execution_count": 132,
   "id": "2081996b",
   "metadata": {},
   "outputs": [
    {
     "name": "stdout",
     "output_type": "stream",
     "text": [
      "Naïve Test MAE: 39.94\n",
      "Test MAE: 17.18\n",
      "MASE: 0.4301 --> MASE < 1 --> algorithm is performing fine compared with naive forecast\n",
      "R: Looking for MAE value, we can conclude that the performance of the model is good.       \n",
      " The values of training data and testing data are similar, being the training strictly lower than the other. So I'm satisfied..\n"
     ]
    },
    {
     "data": {
      "image/png": "[encoded data removed]",
      "text/plain": [
       "<Figure size 1500x900 with 1 Axes>"
      ]
     },
     "metadata": {},
     "output_type": "display_data"
    }
   ],
   "source": [
    "#Using test data set\n",
    "print(f'Naïve Test MAE: {mae(Y_test, np.mean(Y_test))}') \n",
    "print(f'Test MAE: {mae(Y_test, pred_test)}') \n",
    "mase_test = round(mae(Y_test, pred_test)/mae(Y_test, np.mean(Y_test)),4)\n",
    "if (mase_test>1):\n",
    "    print(f\"MASE: {mase_test} --> MASE > 1 --> algorithm is performing poorly compared with naive forecast\")\n",
    "else:\n",
    "    print(f\"MASE: {mase_test} --> MASE < 1 --> algorithm is performing fine compared with naive forecast\")\n",
    "\n",
    "#MASE was not asked but I found interesting to calculate too and looking for this matric, I'm satisfied with model's performance because value of MASE is less then 1.\n",
    "print(f\"R: Looking for MAE value, we can conclude that the performance of the model is good. \\\n",
    "      \\n The values of training data and testing data are similar, being the training strictly lower than the other. So I'm satisfied..\")\n",
    "\n",
    "sns.histplot(Y_test - pred_test).set_title(\"Distribution of errors (train)\", size=16)\n",
    "plt.show()"
   ]
  }
 ],
 "metadata": {
  "colab": {
   "provenance": []
  },
  "kernelspec": {
   "display_name": "Python 3 (ipykernel)",
   "language": "python",
   "name": "python3"
  },
  "language_info": {
   "codemirror_mode": {
    "name": "ipython",
    "version": 3
   },
   "file_extension": ".py",
   "mimetype": "text/x-python",
   "name": "python",
   "nbconvert_exporter": "python",
   "pygments_lexer": "ipython3",
   "version": "3.11.5"
  }
 },
 "nbformat": 4,
 "nbformat_minor": 5
}
