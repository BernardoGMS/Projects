{
 "cells": [
  {
   "cell_type": "markdown",
   "id": "31b4dcc1-cfdf-4147-b7e4-074aba15abca",
   "metadata": {},
   "source": [
    "# Module 4 Reverse Classroom Notebook"
   ]
  },
  {
   "cell_type": "markdown",
   "id": "ebff9332-f2d0-49c5-bdd2-d44616e18a8c",
   "metadata": {},
   "source": [
    "## ANOVAs"
   ]
  },
  {
   "cell_type": "markdown",
   "id": "f46f00f0-ad2d-400d-acf6-9648ecfb2c5b",
   "metadata": {},
   "source": [
    "ANOVA stands for Analysis of Variance and is an extension of the t-tests and z-tests that we looked at in class. ANOVAs are used to compare the means between two groups, however unlike t and z-tests (which are design for comparing only 2 groups) the ANOVA can be used to compare three or more groups together. As such, the ANOVA tests the null hypothesis that the groups are equal in means and the alternative hypothesis that the groups are different in means. Note that with multiple groups, the ANOVA does not explicitly test **which** of the groups are different, just that there is an overall difference between the groups. To identify exactly which group is higher or lower than another, we need to conduct additional tests to compare the individual groups (which we'll discuss later).\n",
    "\n",
    "As the name suggests, the logic behind the ANOVA is to compare variance. Specifically, the ANOVA compares the variance between each group mean and the overall mean (i.e., the deviation between the mean in each group with the mean of the overall sample - called between group variation) to the overall variance on the dependent variable (i.e., the usual deviation between every data point and the overall mean - called within group variation). If the variance between the groups is bigger than the variance within the groups then this indicates that there is a significant difference between the groups. The ANOVA compares this variance by calculating an $F$ statistic, which is computed by taking the mean sum of squares between groups (i.e., how much variance is there between the groups) and dividing it by the mean of sqaured errors (i.e., the usual summed deviations between each data point and the overall mean of the data, which is this case picks out how much variance there is within groups):\n",
    "\n",
    "$$\n",
    "F = \\frac{MSB}{MSE} \n",
    "$$\n",
    "\n",
    "The higher the value of the $F$ statistic, the bigger the between group variation and the more unlikely that the difference between the groups is due to chance. You can read more about the formulas for calculating the ANOVA F statistic [here](https://www.pythonfordatascience.org/anova-python/) and [here](https://byjus.com/anova-formula/). The main idea is that if the variance between the groups is greater than the variance that is due to error, which comes from variation within the groups, then the groups are more different than they are similar, and hence there is a difference between the groups."
   ]
  },
  {
   "cell_type": "markdown",
   "id": "e760003a-8f1d-47d0-854c-9c89a0aea385",
   "metadata": {},
   "source": [
    "We can perform an ANOVA in Python using the `scipy.stats` module. The `f_oneway` function takes several arrays of data as arguments, with each array representing your groups. For example, lets test if theres a difference in the weight of the different species from the penguins dataset:"
   ]
  },
  {
   "cell_type": "code",
   "execution_count": 2,
   "id": "b7d603fe-f85d-4f78-a5ae-42eaa5953fce",
   "metadata": {},
   "outputs": [],
   "source": [
    "import seaborn as sns\n",
    "import scipy.stats as stats"
   ]
  },
  {
   "cell_type": "code",
   "execution_count": 3,
   "id": "c292602c-18bf-47c4-8de5-6433e55afb9b",
   "metadata": {},
   "outputs": [],
   "source": [
    "df = sns.load_dataset(\"penguins\")"
   ]
  },
  {
   "cell_type": "code",
   "execution_count": 4,
   "id": "dc43e650-5705-4c21-945a-a7860c1564b2",
   "metadata": {},
   "outputs": [
    {
     "data": {
      "text/html": [
       "<div>\n",
       "<style scoped>\n",
       "    .dataframe tbody tr th:only-of-type {\n",
       "        vertical-align: middle;\n",
       "    }\n",
       "\n",
       "    .dataframe tbody tr th {\n",
       "        vertical-align: top;\n",
       "    }\n",
       "\n",
       "    .dataframe thead th {\n",
       "        text-align: right;\n",
       "    }\n",
       "</style>\n",
       "<table border=\"1\" class=\"dataframe\">\n",
       "  <thead>\n",
       "    <tr style=\"text-align: right;\">\n",
       "      <th></th>\n",
       "      <th>species</th>\n",
       "      <th>island</th>\n",
       "      <th>bill_length_mm</th>\n",
       "      <th>bill_depth_mm</th>\n",
       "      <th>flipper_length_mm</th>\n",
       "      <th>body_mass_g</th>\n",
       "      <th>sex</th>\n",
       "    </tr>\n",
       "  </thead>\n",
       "  <tbody>\n",
       "    <tr>\n",
       "      <th>0</th>\n",
       "      <td>Adelie</td>\n",
       "      <td>Torgersen</td>\n",
       "      <td>39.1</td>\n",
       "      <td>18.7</td>\n",
       "      <td>181.0</td>\n",
       "      <td>3750.0</td>\n",
       "      <td>Male</td>\n",
       "    </tr>\n",
       "    <tr>\n",
       "      <th>1</th>\n",
       "      <td>Adelie</td>\n",
       "      <td>Torgersen</td>\n",
       "      <td>39.5</td>\n",
       "      <td>17.4</td>\n",
       "      <td>186.0</td>\n",
       "      <td>3800.0</td>\n",
       "      <td>Female</td>\n",
       "    </tr>\n",
       "    <tr>\n",
       "      <th>2</th>\n",
       "      <td>Adelie</td>\n",
       "      <td>Torgersen</td>\n",
       "      <td>40.3</td>\n",
       "      <td>18.0</td>\n",
       "      <td>195.0</td>\n",
       "      <td>3250.0</td>\n",
       "      <td>Female</td>\n",
       "    </tr>\n",
       "    <tr>\n",
       "      <th>3</th>\n",
       "      <td>Adelie</td>\n",
       "      <td>Torgersen</td>\n",
       "      <td>NaN</td>\n",
       "      <td>NaN</td>\n",
       "      <td>NaN</td>\n",
       "      <td>NaN</td>\n",
       "      <td>NaN</td>\n",
       "    </tr>\n",
       "    <tr>\n",
       "      <th>4</th>\n",
       "      <td>Adelie</td>\n",
       "      <td>Torgersen</td>\n",
       "      <td>36.7</td>\n",
       "      <td>19.3</td>\n",
       "      <td>193.0</td>\n",
       "      <td>3450.0</td>\n",
       "      <td>Female</td>\n",
       "    </tr>\n",
       "    <tr>\n",
       "      <th>...</th>\n",
       "      <td>...</td>\n",
       "      <td>...</td>\n",
       "      <td>...</td>\n",
       "      <td>...</td>\n",
       "      <td>...</td>\n",
       "      <td>...</td>\n",
       "      <td>...</td>\n",
       "    </tr>\n",
       "    <tr>\n",
       "      <th>339</th>\n",
       "      <td>Gentoo</td>\n",
       "      <td>Biscoe</td>\n",
       "      <td>NaN</td>\n",
       "      <td>NaN</td>\n",
       "      <td>NaN</td>\n",
       "      <td>NaN</td>\n",
       "      <td>NaN</td>\n",
       "    </tr>\n",
       "    <tr>\n",
       "      <th>340</th>\n",
       "      <td>Gentoo</td>\n",
       "      <td>Biscoe</td>\n",
       "      <td>46.8</td>\n",
       "      <td>14.3</td>\n",
       "      <td>215.0</td>\n",
       "      <td>4850.0</td>\n",
       "      <td>Female</td>\n",
       "    </tr>\n",
       "    <tr>\n",
       "      <th>341</th>\n",
       "      <td>Gentoo</td>\n",
       "      <td>Biscoe</td>\n",
       "      <td>50.4</td>\n",
       "      <td>15.7</td>\n",
       "      <td>222.0</td>\n",
       "      <td>5750.0</td>\n",
       "      <td>Male</td>\n",
       "    </tr>\n",
       "    <tr>\n",
       "      <th>342</th>\n",
       "      <td>Gentoo</td>\n",
       "      <td>Biscoe</td>\n",
       "      <td>45.2</td>\n",
       "      <td>14.8</td>\n",
       "      <td>212.0</td>\n",
       "      <td>5200.0</td>\n",
       "      <td>Female</td>\n",
       "    </tr>\n",
       "    <tr>\n",
       "      <th>343</th>\n",
       "      <td>Gentoo</td>\n",
       "      <td>Biscoe</td>\n",
       "      <td>49.9</td>\n",
       "      <td>16.1</td>\n",
       "      <td>213.0</td>\n",
       "      <td>5400.0</td>\n",
       "      <td>Male</td>\n",
       "    </tr>\n",
       "  </tbody>\n",
       "</table>\n",
       "<p>344 rows × 7 columns</p>\n",
       "</div>"
      ],
      "text/plain": [
       "    species     island  bill_length_mm  bill_depth_mm  flipper_length_mm  \\\n",
       "0    Adelie  Torgersen            39.1           18.7              181.0   \n",
       "1    Adelie  Torgersen            39.5           17.4              186.0   \n",
       "2    Adelie  Torgersen            40.3           18.0              195.0   \n",
       "3    Adelie  Torgersen             NaN            NaN                NaN   \n",
       "4    Adelie  Torgersen            36.7           19.3              193.0   \n",
       "..      ...        ...             ...            ...                ...   \n",
       "339  Gentoo     Biscoe             NaN            NaN                NaN   \n",
       "340  Gentoo     Biscoe            46.8           14.3              215.0   \n",
       "341  Gentoo     Biscoe            50.4           15.7              222.0   \n",
       "342  Gentoo     Biscoe            45.2           14.8              212.0   \n",
       "343  Gentoo     Biscoe            49.9           16.1              213.0   \n",
       "\n",
       "     body_mass_g     sex  \n",
       "0         3750.0    Male  \n",
       "1         3800.0  Female  \n",
       "2         3250.0  Female  \n",
       "3            NaN     NaN  \n",
       "4         3450.0  Female  \n",
       "..           ...     ...  \n",
       "339          NaN     NaN  \n",
       "340       4850.0  Female  \n",
       "341       5750.0    Male  \n",
       "342       5200.0  Female  \n",
       "343       5400.0    Male  \n",
       "\n",
       "[344 rows x 7 columns]"
      ]
     },
     "execution_count": 4,
     "metadata": {},
     "output_type": "execute_result"
    }
   ],
   "source": [
    "df"
   ]
  },
  {
   "cell_type": "code",
   "execution_count": 5,
   "id": "1e37a190-5db4-40bb-9527-bb7bc7003596",
   "metadata": {},
   "outputs": [],
   "source": [
    "# Split the data into three arrays:\n",
    "\n",
    "group_1 = df[\"body_mass_g\"][df[\"species\"]==\"Adelie\"].dropna()\n",
    "group_2 = df[\"body_mass_g\"][df[\"species\"]==\"Chinstrap\"].dropna()\n",
    "group_3 = df[\"body_mass_g\"][df[\"species\"]==\"Gentoo\"].dropna()"
   ]
  },
  {
   "cell_type": "code",
   "execution_count": 6,
   "id": "519b7712-0b9d-4a60-b71c-32a301522456",
   "metadata": {},
   "outputs": [
    {
     "data": {
      "text/plain": [
       "0      3750.0\n",
       "1      3800.0\n",
       "2      3250.0\n",
       "4      3450.0\n",
       "5      3650.0\n",
       "        ...  \n",
       "147    3475.0\n",
       "148    3450.0\n",
       "149    3750.0\n",
       "150    3700.0\n",
       "151    4000.0\n",
       "Name: body_mass_g, Length: 151, dtype: float64"
      ]
     },
     "execution_count": 6,
     "metadata": {},
     "output_type": "execute_result"
    }
   ],
   "source": [
    "group_1"
   ]
  },
  {
   "cell_type": "code",
   "execution_count": 7,
   "id": "7f1c9c0d-c620-4408-b400-442a7fd63719",
   "metadata": {},
   "outputs": [
    {
     "data": {
      "text/plain": [
       "F_onewayResult(statistic=343.626275205481, pvalue=2.892368133377283e-82)"
      ]
     },
     "execution_count": 7,
     "metadata": {},
     "output_type": "execute_result"
    }
   ],
   "source": [
    "stats.f_oneway(group_1, group_2, group_3)"
   ]
  },
  {
   "cell_type": "markdown",
   "id": "e4d65cdd-c4d5-4ad4-b49c-453a6d45835d",
   "metadata": {},
   "source": [
    "We can also generate an ANOVA test using the `statsmodel` package, which gives additional output such as the sum of squares for within and between groups:"
   ]
  },
  {
   "cell_type": "code",
   "execution_count": 10,
   "id": "c5a6f8fc-7f89-4191-a245-c735b0a1be0b",
   "metadata": {},
   "outputs": [
    {
     "data": {
      "text/html": [
       "<div>\n",
       "<style scoped>\n",
       "    .dataframe tbody tr th:only-of-type {\n",
       "        vertical-align: middle;\n",
       "    }\n",
       "\n",
       "    .dataframe tbody tr th {\n",
       "        vertical-align: top;\n",
       "    }\n",
       "\n",
       "    .dataframe thead th {\n",
       "        text-align: right;\n",
       "    }\n",
       "</style>\n",
       "<table border=\"1\" class=\"dataframe\">\n",
       "  <thead>\n",
       "    <tr style=\"text-align: right;\">\n",
       "      <th></th>\n",
       "      <th>sum_sq</th>\n",
       "      <th>df</th>\n",
       "      <th>F</th>\n",
       "      <th>PR(&gt;F)</th>\n",
       "    </tr>\n",
       "  </thead>\n",
       "  <tbody>\n",
       "    <tr>\n",
       "      <th>C(species)</th>\n",
       "      <td>1.468642e+08</td>\n",
       "      <td>2.0</td>\n",
       "      <td>343.626275</td>\n",
       "      <td>2.892368e-82</td>\n",
       "    </tr>\n",
       "    <tr>\n",
       "      <th>Residual</th>\n",
       "      <td>7.244348e+07</td>\n",
       "      <td>339.0</td>\n",
       "      <td>NaN</td>\n",
       "      <td>NaN</td>\n",
       "    </tr>\n",
       "  </tbody>\n",
       "</table>\n",
       "</div>"
      ],
      "text/plain": [
       "                  sum_sq     df           F        PR(>F)\n",
       "C(species)  1.468642e+08    2.0  343.626275  2.892368e-82\n",
       "Residual    7.244348e+07  339.0         NaN           NaN"
      ]
     },
     "execution_count": 10,
     "metadata": {},
     "output_type": "execute_result"
    }
   ],
   "source": [
    "import statsmodels.api as sm\n",
    "from statsmodels.formula.api import ols\n",
    "model = ols('body_mass_g ~ C(species)', data=df).fit()\n",
    "anova_table = sm.stats.anova_lm(model, typ=2)\n",
    "anova_table"
   ]
  },
  {
   "cell_type": "markdown",
   "id": "f84831f2-77ee-4d50-ab4f-7f8a7fb351dd",
   "metadata": {},
   "source": [
    "From the above you can see that the F statistic is very high, and the p_value is very low, so we would conclude that there is a significant difference between the penguin species in body mass. However, the ANOVA doesn't tell you which group is different. If we plot the means, we'll see that the Adelie and Chinstrap are fairly similar in weight, but the Gentoo is much heavier. "
   ]
  },
  {
   "cell_type": "code",
   "execution_count": 17,
   "id": "54875815-c7b9-48f3-b9d4-21aad4d0ba1b",
   "metadata": {},
   "outputs": [
    {
     "data": {
      "text/plain": [
       "species\n",
       "Adelie       3700.662252\n",
       "Chinstrap    3733.088235\n",
       "Gentoo       5076.016260\n",
       "Name: body_mass_g, dtype: float64"
      ]
     },
     "execution_count": 17,
     "metadata": {},
     "output_type": "execute_result"
    }
   ],
   "source": [
    "df.groupby(\"species\")[\"body_mass_g\"].mean()"
   ]
  },
  {
   "cell_type": "markdown",
   "id": "4e4dea71-1459-4c05-800a-9e0ba833622d",
   "metadata": {},
   "source": [
    "To test which of these groups is different to the other, we would conduct additional t-tests to compare each group individually. This is often called **post-hoc tests**, as they're additional tests that take place after the main ANOVA. There are several types of post-hoc tests, but a commonly used one is [Tukey's HSD Test](https://en.wikipedia.org/wiki/Tukey%27s_range_test). We can again compute this using the stats module:"
   ]
  },
  {
   "cell_type": "code",
   "execution_count": 22,
   "id": "69876c0e-5448-4f00-a22c-e07a6d76f76f",
   "metadata": {},
   "outputs": [
    {
     "name": "stdout",
     "output_type": "stream",
     "text": [
      "Tukey's HSD Pairwise Group Comparisons (95.0% Confidence Interval)\n",
      "Comparison  Statistic  p-value  Lower CI  Upper CI\n",
      " (0 - 1)    -32.426     0.881  -191.352   126.500\n",
      " (0 - 2)  -1375.354     0.000 -1507.529 -1243.179\n",
      " (1 - 0)     32.426     0.881  -126.500   191.352\n",
      " (1 - 2)  -1342.928     0.000 -1507.375 -1178.481\n",
      " (2 - 0)   1375.354     0.000  1243.179  1507.529\n",
      " (2 - 1)   1342.928     0.000  1178.481  1507.375\n",
      "\n"
     ]
    }
   ],
   "source": [
    "print(stats.tukey_hsd(group_1, group_2, group_3))"
   ]
  },
  {
   "cell_type": "markdown",
   "id": "685b5582-21c4-49e6-8d09-ebfc8801ea4d",
   "metadata": {},
   "source": [
    "From the above we can see that the Adelie and Chinstrap penguins are not significantly different (the first row in the table, comparing group 0 (Adelie) with group 1 (Chinstrap). However, we can see that the Gentoo penguin is significantly heavier than both the Adelie (comparison 0-2) and the Chinstrap (comparison 1-2) penguins. "
   ]
  },
  {
   "cell_type": "markdown",
   "id": "e7a0bdf9-0d9f-4fe1-9dfc-659222829042",
   "metadata": {},
   "source": [
    "Note that here we've conducted what's called a **one-way ANOVA** because we had one variable (penguin species) that had 3 different groups (Adelie, Chinstrap and Gentoo). It's also possible to add additional variables to the ANOVA to conduct two-way ANOVAS, which look at the differences between groups and also the interaction between groups from different variables. You can read more about these [here](https://www.reneshbedre.com/blog/anova.html?utm_content=cmp-true) or [here](https://towardsdatascience.com/two-way-anova-test-with-python-a112e2396d78)."
   ]
  },
  {
   "cell_type": "markdown",
   "id": "17191156-be2a-4d3f-9313-23d5e5d1bcc0",
   "metadata": {},
   "source": [
    "## Chi Square"
   ]
  },
  {
   "cell_type": "markdown",
   "id": "16a9128f-79db-4452-a8d8-8327d97da889",
   "metadata": {},
   "source": [
    "The Chi-Square test is used to assess whether two categorical variables are associated with each other. For example, we might want to see whether survival rates from a particular disease are associated with someone's sex. The chi-square test works by comparing the frequencies of each category with the frequencies we would expect to see if the two variables were unrelated (i.e., the null hypothesis was true). As such, chi-square tests work with contingency tables (sometimes called crosstabs) which summarise the frequency of data within each category, like in the example below:\n",
    "\n",
    "|  | Did Not Survive | Survived| \n",
    "| --- | --- | --- | \n",
    "| Male | 123 | 211 |\n",
    "| Female | 110 | 249 | "
   ]
  },
  {
   "cell_type": "markdown",
   "id": "7456a03a-5162-4a85-9f8e-c39a7148f720",
   "metadata": {},
   "source": [
    "The chi-square statistic is computed by comparing the **observed frequencies** (the ones we have above) with the **expected** frequencies (what we would expect if the null hypothesis was true, which results in the proportions of one variable being the same for all values of the other variable). We can compute the expected frequencies with the below formula:\n",
    "\n",
    "$$\n",
    "\\frac{r*c}{N}\n",
    "$$\n",
    "\n",
    "Where:\n",
    "- $r$ is the row total\n",
    "- $c$ is the column total\n",
    "- $N$ is the sample size"
   ]
  },
  {
   "cell_type": "markdown",
   "id": "c8a0eda9-7118-4920-864e-6dbb362b393f",
   "metadata": {},
   "source": [
    "For example, lets first add our row and column totals to the above data:\n",
    "\n",
    "|  | Did Not Survive | Survived| Row Total |\n",
    "| --- | --- | --- | --- |\n",
    "| Male | 123 | 211 | 334 |\n",
    "| Female | 110 | 249 | 359 |\n",
    "| **Column Totals** | 233 | 460 | 693 |\n",
    "\n",
    "Based on this our expected frequencies would be:\n",
    "\n",
    "|  | Did Not Survive | Survived| Row Total |\n",
    "| --- | --- | --- | --- |\n",
    "| Male | 112.30  | 221.70 | 334 |\n",
    "| Female | 120.70 | 238.30 | 359 |\n",
    "| **Column Totals** | 233 | 460 | 693 |\n",
    "\n",
    "For example, for Males who did not survive our equation would be 334*233/693 = 112.30. By using the row and column totals, the expected frequencies are calculated such that the proportions between each variable is equal (e.g., the proprotion of males and females who did not survive is the same)."
   ]
  },
  {
   "cell_type": "markdown",
   "id": "f5a9e595-6555-4559-a2a5-7dbfbe622c05",
   "metadata": {},
   "source": [
    "The chi-square statistic compares these observed and expected frequencies using the below formula:\n",
    "\n",
    "$$\n",
    "x^2 = \\sum\\frac{(O - E)^2}{E}\n",
    "$$\n",
    "\n",
    "Where:\n",
    "\n",
    "- $O$ is the observed frequencies\n",
    "- $E$ is the expected frequencies\n",
    "\n",
    "The chi-square statistic captures how much the observed frequencies differ from the expected, so the larger the chi-square value, the less likely we would have acheived it just by chance if the null hypothesis was true (and hence, the more likely there is some associated between the two categorical variables). You can read more about the formula [here](https://www.scribbr.com/statistics/chi-square-test-of-independence/)"
   ]
  },
  {
   "cell_type": "markdown",
   "id": "2460febc-e051-4b3f-abc7-395ace33252c",
   "metadata": {},
   "source": [
    "In python we can compute the chi-square using the `scipy` package and the `chi2_contingency` function. This takes your contingency table passed in as a 2d array, like so:"
   ]
  },
  {
   "cell_type": "code",
   "execution_count": 11,
   "id": "b976e2e0-8262-4f49-ac48-e26085960af7",
   "metadata": {},
   "outputs": [
    {
     "name": "stdout",
     "output_type": "stream",
     "text": [
      "Chi2ContingencyResult(statistic=2.6957450705336816, pvalue=0.10061644494492511, dof=1, expected_freq=array([[112.2972583, 221.7027417],\n",
      "       [120.7027417, 238.2972583]]))\n"
     ]
    }
   ],
   "source": [
    "from scipy.stats import chi2_contingency\n",
    "data = [[123, 211], [110, 249]]\n",
    "print(chi2_contingency(data))"
   ]
  },
  {
   "cell_type": "markdown",
   "id": "3d8d895a-31a8-4c93-8a84-ba098dfe0784",
   "metadata": {},
   "source": [
    "As you can see, here our p value is not below the $p < .05$ threshold, so we would conclude that there is not a signficant associate between sex and survival."
   ]
  },
  {
   "cell_type": "markdown",
   "id": "570132be-9bdd-4ce1-97e7-4a4272310663",
   "metadata": {},
   "source": [
    "## K-Means Clustering"
   ]
  },
  {
   "cell_type": "markdown",
   "id": "c12dbd6e-5cc7-402b-aa39-56cd496bf5e1",
   "metadata": {},
   "source": [
    "K-Means clustering is an unsupervised machine learning technique that tries to identify data points that are similar to each other. This allows us to pick out patterns in the data or identify groups. As an unsupervised model, KMeans identifies clusters from the data itself (i.e., we won't need any pre-labelled data that tells us what our clusters are). The only input the model needs from us is to determine how many clusters we want to model to identify, usually denotated as $k$.\n",
    "\n",
    "The algorithm works by first plotting $k$ **centroids** onto your data. A centroid is effectively the centre of a cluster. It then takes each data point and assigns it to a particular cluster by calculating what its nearest centorid is. For each cluster, a new centroid is then computed by taking the average of each data point in the cluster (hence the name KMeans), which provides a new central point to the cluster. The process then repeats (so again, we would take each data point and calculate what its nearest centroid is using the new centroids and reassign each data point to clusters accordingly). We repeat this process over and over until the centroids **stabalise**, that is, they no longer change their location. For a visual example of how this works, check out this [website](https://www.naftaliharris.com/blog/visualizing-k-means-clustering/)."
   ]
  },
  {
   "cell_type": "markdown",
   "id": "c4125657-be07-4cc5-998c-699fe78dcf33",
   "metadata": {},
   "source": [
    "Let's see an example using the `iris` dataset:"
   ]
  },
  {
   "cell_type": "code",
   "execution_count": 14,
   "id": "5c76148f-c0e8-4ff0-8657-bc47fdccfa30",
   "metadata": {},
   "outputs": [
    {
     "data": {
      "text/html": [
       "<div>\n",
       "<style scoped>\n",
       "    .dataframe tbody tr th:only-of-type {\n",
       "        vertical-align: middle;\n",
       "    }\n",
       "\n",
       "    .dataframe tbody tr th {\n",
       "        vertical-align: top;\n",
       "    }\n",
       "\n",
       "    .dataframe thead th {\n",
       "        text-align: right;\n",
       "    }\n",
       "</style>\n",
       "<table border=\"1\" class=\"dataframe\">\n",
       "  <thead>\n",
       "    <tr style=\"text-align: right;\">\n",
       "      <th></th>\n",
       "      <th>sepal_length</th>\n",
       "      <th>sepal_width</th>\n",
       "      <th>petal_length</th>\n",
       "      <th>petal_width</th>\n",
       "      <th>species</th>\n",
       "    </tr>\n",
       "  </thead>\n",
       "  <tbody>\n",
       "    <tr>\n",
       "      <th>0</th>\n",
       "      <td>5.1</td>\n",
       "      <td>3.5</td>\n",
       "      <td>1.4</td>\n",
       "      <td>0.2</td>\n",
       "      <td>setosa</td>\n",
       "    </tr>\n",
       "    <tr>\n",
       "      <th>1</th>\n",
       "      <td>4.9</td>\n",
       "      <td>3.0</td>\n",
       "      <td>1.4</td>\n",
       "      <td>0.2</td>\n",
       "      <td>setosa</td>\n",
       "    </tr>\n",
       "    <tr>\n",
       "      <th>2</th>\n",
       "      <td>4.7</td>\n",
       "      <td>3.2</td>\n",
       "      <td>1.3</td>\n",
       "      <td>0.2</td>\n",
       "      <td>setosa</td>\n",
       "    </tr>\n",
       "    <tr>\n",
       "      <th>3</th>\n",
       "      <td>4.6</td>\n",
       "      <td>3.1</td>\n",
       "      <td>1.5</td>\n",
       "      <td>0.2</td>\n",
       "      <td>setosa</td>\n",
       "    </tr>\n",
       "    <tr>\n",
       "      <th>4</th>\n",
       "      <td>5.0</td>\n",
       "      <td>3.6</td>\n",
       "      <td>1.4</td>\n",
       "      <td>0.2</td>\n",
       "      <td>setosa</td>\n",
       "    </tr>\n",
       "    <tr>\n",
       "      <th>...</th>\n",
       "      <td>...</td>\n",
       "      <td>...</td>\n",
       "      <td>...</td>\n",
       "      <td>...</td>\n",
       "      <td>...</td>\n",
       "    </tr>\n",
       "    <tr>\n",
       "      <th>145</th>\n",
       "      <td>6.7</td>\n",
       "      <td>3.0</td>\n",
       "      <td>5.2</td>\n",
       "      <td>2.3</td>\n",
       "      <td>virginica</td>\n",
       "    </tr>\n",
       "    <tr>\n",
       "      <th>146</th>\n",
       "      <td>6.3</td>\n",
       "      <td>2.5</td>\n",
       "      <td>5.0</td>\n",
       "      <td>1.9</td>\n",
       "      <td>virginica</td>\n",
       "    </tr>\n",
       "    <tr>\n",
       "      <th>147</th>\n",
       "      <td>6.5</td>\n",
       "      <td>3.0</td>\n",
       "      <td>5.2</td>\n",
       "      <td>2.0</td>\n",
       "      <td>virginica</td>\n",
       "    </tr>\n",
       "    <tr>\n",
       "      <th>148</th>\n",
       "      <td>6.2</td>\n",
       "      <td>3.4</td>\n",
       "      <td>5.4</td>\n",
       "      <td>2.3</td>\n",
       "      <td>virginica</td>\n",
       "    </tr>\n",
       "    <tr>\n",
       "      <th>149</th>\n",
       "      <td>5.9</td>\n",
       "      <td>3.0</td>\n",
       "      <td>5.1</td>\n",
       "      <td>1.8</td>\n",
       "      <td>virginica</td>\n",
       "    </tr>\n",
       "  </tbody>\n",
       "</table>\n",
       "<p>150 rows × 5 columns</p>\n",
       "</div>"
      ],
      "text/plain": [
       "     sepal_length  sepal_width  petal_length  petal_width    species\n",
       "0             5.1          3.5           1.4          0.2     setosa\n",
       "1             4.9          3.0           1.4          0.2     setosa\n",
       "2             4.7          3.2           1.3          0.2     setosa\n",
       "3             4.6          3.1           1.5          0.2     setosa\n",
       "4             5.0          3.6           1.4          0.2     setosa\n",
       "..            ...          ...           ...          ...        ...\n",
       "145           6.7          3.0           5.2          2.3  virginica\n",
       "146           6.3          2.5           5.0          1.9  virginica\n",
       "147           6.5          3.0           5.2          2.0  virginica\n",
       "148           6.2          3.4           5.4          2.3  virginica\n",
       "149           5.9          3.0           5.1          1.8  virginica\n",
       "\n",
       "[150 rows x 5 columns]"
      ]
     },
     "execution_count": 14,
     "metadata": {},
     "output_type": "execute_result"
    }
   ],
   "source": [
    "import seaborn as sns\n",
    "sns.set_theme()\n",
    "df = sns.load_dataset(\"iris\")\n",
    "df"
   ]
  },
  {
   "cell_type": "markdown",
   "id": "b55c7d9a-e31a-43e5-869a-f68b0df05657",
   "metadata": {},
   "source": [
    "Lets plot a scatterplot that shows the relationship between petal length and petal width:"
   ]
  },
  {
   "cell_type": "code",
   "execution_count": 15,
   "id": "ae6b10e2-bf9b-4eb5-b7f0-5a964423c2d1",
   "metadata": {},
   "outputs": [
    {
     "data": {
      "text/plain": [
       "<Axes: xlabel='petal_length', ylabel='petal_width'>"
      ]
     },
     "execution_count": 15,
     "metadata": {},
     "output_type": "execute_result"
    },
    {
     "data": {
      "image/png": "[encoded data removed]",
      "text/plain": [
       "<Figure size 640x480 with 1 Axes>"
      ]
     },
     "metadata": {},
     "output_type": "display_data"
    }
   ],
   "source": [
    "sns.scatterplot(x=\"petal_length\", y=\"petal_width\", data=df)"
   ]
  },
  {
   "cell_type": "markdown",
   "id": "bfb9a945-5684-48a8-9477-0ad252ceb9b5",
   "metadata": {},
   "source": [
    "By looking at this scatterplot we might say there are 3 potential groups of data points, so we might fit a KMeans model with 3 clusters. We can do this using the `sklearn` library:"
   ]
  },
  {
   "cell_type": "code",
   "execution_count": 16,
   "id": "6448ace3-b89e-45a2-ae4f-eba9fc0eba46",
   "metadata": {},
   "outputs": [
    {
     "name": "stderr",
     "output_type": "stream",
     "text": [
      "C:\\Users\\Benda\\anaconda3\\lib\\site-packages\\sklearn\\cluster\\_kmeans.py:870: FutureWarning: The default value of `n_init` will change from 10 to 'auto' in 1.4. Set the value of `n_init` explicitly to suppress the warning\n",
      "  warnings.warn(\n",
      "C:\\Users\\Benda\\anaconda3\\lib\\site-packages\\sklearn\\cluster\\_kmeans.py:1382: UserWarning: KMeans is known to have a memory leak on Windows with MKL, when there are less chunks than available threads. You can avoid it by setting the environment variable OMP_NUM_THREADS=1.\n",
      "  warnings.warn(\n"
     ]
    },
    {
     "data": {
      "text/html": [
       "<style>#sk-container-id-1 {color: black;background-color: white;}#sk-container-id-1 pre{padding: 0;}#sk-container-id-1 div.sk-toggleable {background-color: white;}#sk-container-id-1 label.sk-toggleable__label {cursor: pointer;display: block;width: 100%;margin-bottom: 0;padding: 0.3em;box-sizing: border-box;text-align: center;}#sk-container-id-1 label.sk-toggleable__label-arrow:before {content: \"▸\";float: left;margin-right: 0.25em;color: #696969;}#sk-container-id-1 label.sk-toggleable__label-arrow:hover:before {color: black;}#sk-container-id-1 div.sk-estimator:hover label.sk-toggleable__label-arrow:before {color: black;}#sk-container-id-1 div.sk-toggleable__content {max-height: 0;max-width: 0;overflow: hidden;text-align: left;background-color: #f0f8ff;}#sk-container-id-1 div.sk-toggleable__content pre {margin: 0.2em;color: black;border-radius: 0.25em;background-color: #f0f8ff;}#sk-container-id-1 input.sk-toggleable__control:checked~div.sk-toggleable__content {max-height: 200px;max-width: 100%;overflow: auto;}#sk-container-id-1 input.sk-toggleable__control:checked~label.sk-toggleable__label-arrow:before {content: \"▾\";}#sk-container-id-1 div.sk-estimator input.sk-toggleable__control:checked~label.sk-toggleable__label {background-color: #d4ebff;}#sk-container-id-1 div.sk-label input.sk-toggleable__control:checked~label.sk-toggleable__label {background-color: #d4ebff;}#sk-container-id-1 input.sk-hidden--visually {border: 0;clip: rect(1px 1px 1px 1px);clip: rect(1px, 1px, 1px, 1px);height: 1px;margin: -1px;overflow: hidden;padding: 0;position: absolute;width: 1px;}#sk-container-id-1 div.sk-estimator {font-family: monospace;background-color: #f0f8ff;border: 1px dotted black;border-radius: 0.25em;box-sizing: border-box;margin-bottom: 0.5em;}#sk-container-id-1 div.sk-estimator:hover {background-color: #d4ebff;}#sk-container-id-1 div.sk-parallel-item::after {content: \"\";width: 100%;border-bottom: 1px solid gray;flex-grow: 1;}#sk-container-id-1 div.sk-label:hover label.sk-toggleable__label {background-color: #d4ebff;}#sk-container-id-1 div.sk-serial::before {content: \"\";position: absolute;border-left: 1px solid gray;box-sizing: border-box;top: 0;bottom: 0;left: 50%;z-index: 0;}#sk-container-id-1 div.sk-serial {display: flex;flex-direction: column;align-items: center;background-color: white;padding-right: 0.2em;padding-left: 0.2em;position: relative;}#sk-container-id-1 div.sk-item {position: relative;z-index: 1;}#sk-container-id-1 div.sk-parallel {display: flex;align-items: stretch;justify-content: center;background-color: white;position: relative;}#sk-container-id-1 div.sk-item::before, #sk-container-id-1 div.sk-parallel-item::before {content: \"\";position: absolute;border-left: 1px solid gray;box-sizing: border-box;top: 0;bottom: 0;left: 50%;z-index: -1;}#sk-container-id-1 div.sk-parallel-item {display: flex;flex-direction: column;z-index: 1;position: relative;background-color: white;}#sk-container-id-1 div.sk-parallel-item:first-child::after {align-self: flex-end;width: 50%;}#sk-container-id-1 div.sk-parallel-item:last-child::after {align-self: flex-start;width: 50%;}#sk-container-id-1 div.sk-parallel-item:only-child::after {width: 0;}#sk-container-id-1 div.sk-dashed-wrapped {border: 1px dashed gray;margin: 0 0.4em 0.5em 0.4em;box-sizing: border-box;padding-bottom: 0.4em;background-color: white;}#sk-container-id-1 div.sk-label label {font-family: monospace;font-weight: bold;display: inline-block;line-height: 1.2em;}#sk-container-id-1 div.sk-label-container {text-align: center;}#sk-container-id-1 div.sk-container {/* jupyter's `normalize.less` sets `[hidden] { display: none; }` but bootstrap.min.css set `[hidden] { display: none !important; }` so we also need the `!important` here to be able to override the default hidden behavior on the sphinx rendered scikit-learn.org. See: https://github.com/scikit-learn/scikit-learn/issues/21755 */display: inline-block !important;position: relative;}#sk-container-id-1 div.sk-text-repr-fallback {display: none;}</style><div id=\"sk-container-id-1\" class=\"sk-top-container\"><div class=\"sk-text-repr-fallback\"><pre>KMeans(n_clusters=3)</pre><b>In a Jupyter environment, please rerun this cell to show the HTML representation or trust the notebook. <br />On GitHub, the HTML representation is unable to render, please try loading this page with nbviewer.org.</b></div><div class=\"sk-container\" hidden><div class=\"sk-item\"><div class=\"sk-estimator sk-toggleable\"><input class=\"sk-toggleable__control sk-hidden--visually\" id=\"sk-estimator-id-1\" type=\"checkbox\" checked><label for=\"sk-estimator-id-1\" class=\"sk-toggleable__label sk-toggleable__label-arrow\">KMeans</label><div class=\"sk-toggleable__content\"><pre>KMeans(n_clusters=3)</pre></div></div></div></div></div>"
      ],
      "text/plain": [
       "KMeans(n_clusters=3)"
      ]
     },
     "execution_count": 16,
     "metadata": {},
     "output_type": "execute_result"
    }
   ],
   "source": [
    "from sklearn.cluster import KMeans\n",
    "X = df[[\"petal_length\", \"petal_width\"]]\n",
    "\n",
    "Kmean = KMeans(n_clusters=3)\n",
    "Kmean.fit(X)"
   ]
  },
  {
   "cell_type": "markdown",
   "id": "837063ea-6e78-4ccd-8301-9a4194d2f6a5",
   "metadata": {},
   "source": [
    "We can see the centroids of our clusters with the below:"
   ]
  },
  {
   "cell_type": "code",
   "execution_count": 17,
   "id": "0dff1a51-d97c-47ca-b663-10605c69b4d0",
   "metadata": {},
   "outputs": [
    {
     "data": {
      "text/plain": [
       "array([[4.26923077, 1.34230769],\n",
       "       [1.462     , 0.246     ],\n",
       "       [5.59583333, 2.0375    ]])"
      ]
     },
     "execution_count": 17,
     "metadata": {},
     "output_type": "execute_result"
    }
   ],
   "source": [
    "Kmean.cluster_centers_"
   ]
  },
  {
   "cell_type": "markdown",
   "id": "c00aed95-4f46-4e36-8679-08693727de28",
   "metadata": {},
   "source": [
    "As plot them on our scatterplot like so:"
   ]
  },
  {
   "cell_type": "code",
   "execution_count": 27,
   "id": "fc25c779-bd97-4d3c-a5d2-c38c1e69705a",
   "metadata": {},
   "outputs": [
    {
     "data": {
      "text/plain": [
       "<Axes: xlabel='petal_length', ylabel='petal_width'>"
      ]
     },
     "execution_count": 27,
     "metadata": {},
     "output_type": "execute_result"
    },
    {
     "data": {
      "image/png": "[encoded data removed]",
      "text/plain": [
       "<Figure size 640x480 with 1 Axes>"
      ]
     },
     "metadata": {},
     "output_type": "display_data"
    }
   ],
   "source": [
    "sns.scatterplot(x=\"petal_length\", y=\"petal_width\", data=df)\n",
    "sns.scatterplot(x=[Kmean.cluster_centers_[0][0]], y=[Kmean.cluster_centers_[0][1]], color=\"red\", marker=\"s\")\n",
    "sns.scatterplot(x=[Kmean.cluster_centers_[1][0]], y=[Kmean.cluster_centers_[1][1]], color=\"green\", marker=\"s\")\n",
    "sns.scatterplot(x=[Kmean.cluster_centers_[2][0]], y=[Kmean.cluster_centers_[2][1]], color=\"orange\", marker=\"s\")"
   ]
  },
  {
   "cell_type": "markdown",
   "id": "8bd27d42-6e86-4e7d-a072-3022c814632a",
   "metadata": {},
   "source": [
    "We can see which cluster each data point has been assigned to with the below:"
   ]
  },
  {
   "cell_type": "code",
   "execution_count": 29,
   "id": "e174d309-c87c-4ed8-96eb-e07cf27e1919",
   "metadata": {},
   "outputs": [
    {
     "data": {
      "text/plain": [
       "array([1, 1, 1, 1, 1, 1, 1, 1, 1, 1, 1, 1, 1, 1, 1, 1, 1, 1, 1, 1, 1, 1,\n",
       "       1, 1, 1, 1, 1, 1, 1, 1, 1, 1, 1, 1, 1, 1, 1, 1, 1, 1, 1, 1, 1, 1,\n",
       "       1, 1, 1, 1, 1, 1, 0, 0, 0, 0, 0, 0, 0, 0, 0, 0, 0, 0, 0, 0, 0, 0,\n",
       "       0, 0, 0, 0, 0, 0, 0, 0, 0, 0, 0, 2, 0, 0, 0, 0, 0, 2, 0, 0, 0, 0,\n",
       "       0, 0, 0, 0, 0, 0, 0, 0, 0, 0, 0, 0, 2, 2, 2, 2, 2, 2, 0, 2, 2, 2,\n",
       "       2, 2, 2, 2, 2, 2, 2, 2, 2, 0, 2, 2, 2, 2, 2, 2, 0, 2, 2, 2, 2, 2,\n",
       "       2, 2, 2, 2, 2, 2, 0, 2, 2, 2, 2, 2, 2, 2, 2, 2, 2, 2])"
      ]
     },
     "execution_count": 29,
     "metadata": {},
     "output_type": "execute_result"
    }
   ],
   "source": [
    "Kmean.labels_"
   ]
  },
  {
   "cell_type": "markdown",
   "id": "e196411d-74ba-4632-a5e1-fd2cbd485732",
   "metadata": {},
   "source": [
    "If we assign this back to our dataframe, we can colour each data point based on the cluster it has been assigned to:"
   ]
  },
  {
   "cell_type": "code",
   "execution_count": 30,
   "id": "652b25dc-95fc-4879-95da-863a1f119431",
   "metadata": {},
   "outputs": [],
   "source": [
    "df[\"cluster\"] = Kmean.labels_"
   ]
  },
  {
   "cell_type": "code",
   "execution_count": 31,
   "id": "c3dc8e98-7487-4d06-9c33-0c503beeb9c1",
   "metadata": {},
   "outputs": [
    {
     "data": {
      "text/html": [
       "<div>\n",
       "<style scoped>\n",
       "    .dataframe tbody tr th:only-of-type {\n",
       "        vertical-align: middle;\n",
       "    }\n",
       "\n",
       "    .dataframe tbody tr th {\n",
       "        vertical-align: top;\n",
       "    }\n",
       "\n",
       "    .dataframe thead th {\n",
       "        text-align: right;\n",
       "    }\n",
       "</style>\n",
       "<table border=\"1\" class=\"dataframe\">\n",
       "  <thead>\n",
       "    <tr style=\"text-align: right;\">\n",
       "      <th></th>\n",
       "      <th>sepal_length</th>\n",
       "      <th>sepal_width</th>\n",
       "      <th>petal_length</th>\n",
       "      <th>petal_width</th>\n",
       "      <th>species</th>\n",
       "      <th>cluster</th>\n",
       "    </tr>\n",
       "  </thead>\n",
       "  <tbody>\n",
       "    <tr>\n",
       "      <th>0</th>\n",
       "      <td>5.1</td>\n",
       "      <td>3.5</td>\n",
       "      <td>1.4</td>\n",
       "      <td>0.2</td>\n",
       "      <td>setosa</td>\n",
       "      <td>1</td>\n",
       "    </tr>\n",
       "    <tr>\n",
       "      <th>1</th>\n",
       "      <td>4.9</td>\n",
       "      <td>3.0</td>\n",
       "      <td>1.4</td>\n",
       "      <td>0.2</td>\n",
       "      <td>setosa</td>\n",
       "      <td>1</td>\n",
       "    </tr>\n",
       "    <tr>\n",
       "      <th>2</th>\n",
       "      <td>4.7</td>\n",
       "      <td>3.2</td>\n",
       "      <td>1.3</td>\n",
       "      <td>0.2</td>\n",
       "      <td>setosa</td>\n",
       "      <td>1</td>\n",
       "    </tr>\n",
       "    <tr>\n",
       "      <th>3</th>\n",
       "      <td>4.6</td>\n",
       "      <td>3.1</td>\n",
       "      <td>1.5</td>\n",
       "      <td>0.2</td>\n",
       "      <td>setosa</td>\n",
       "      <td>1</td>\n",
       "    </tr>\n",
       "    <tr>\n",
       "      <th>4</th>\n",
       "      <td>5.0</td>\n",
       "      <td>3.6</td>\n",
       "      <td>1.4</td>\n",
       "      <td>0.2</td>\n",
       "      <td>setosa</td>\n",
       "      <td>1</td>\n",
       "    </tr>\n",
       "    <tr>\n",
       "      <th>...</th>\n",
       "      <td>...</td>\n",
       "      <td>...</td>\n",
       "      <td>...</td>\n",
       "      <td>...</td>\n",
       "      <td>...</td>\n",
       "      <td>...</td>\n",
       "    </tr>\n",
       "    <tr>\n",
       "      <th>145</th>\n",
       "      <td>6.7</td>\n",
       "      <td>3.0</td>\n",
       "      <td>5.2</td>\n",
       "      <td>2.3</td>\n",
       "      <td>virginica</td>\n",
       "      <td>2</td>\n",
       "    </tr>\n",
       "    <tr>\n",
       "      <th>146</th>\n",
       "      <td>6.3</td>\n",
       "      <td>2.5</td>\n",
       "      <td>5.0</td>\n",
       "      <td>1.9</td>\n",
       "      <td>virginica</td>\n",
       "      <td>2</td>\n",
       "    </tr>\n",
       "    <tr>\n",
       "      <th>147</th>\n",
       "      <td>6.5</td>\n",
       "      <td>3.0</td>\n",
       "      <td>5.2</td>\n",
       "      <td>2.0</td>\n",
       "      <td>virginica</td>\n",
       "      <td>2</td>\n",
       "    </tr>\n",
       "    <tr>\n",
       "      <th>148</th>\n",
       "      <td>6.2</td>\n",
       "      <td>3.4</td>\n",
       "      <td>5.4</td>\n",
       "      <td>2.3</td>\n",
       "      <td>virginica</td>\n",
       "      <td>2</td>\n",
       "    </tr>\n",
       "    <tr>\n",
       "      <th>149</th>\n",
       "      <td>5.9</td>\n",
       "      <td>3.0</td>\n",
       "      <td>5.1</td>\n",
       "      <td>1.8</td>\n",
       "      <td>virginica</td>\n",
       "      <td>2</td>\n",
       "    </tr>\n",
       "  </tbody>\n",
       "</table>\n",
       "<p>150 rows × 6 columns</p>\n",
       "</div>"
      ],
      "text/plain": [
       "     sepal_length  sepal_width  petal_length  petal_width    species  cluster\n",
       "0             5.1          3.5           1.4          0.2     setosa        1\n",
       "1             4.9          3.0           1.4          0.2     setosa        1\n",
       "2             4.7          3.2           1.3          0.2     setosa        1\n",
       "3             4.6          3.1           1.5          0.2     setosa        1\n",
       "4             5.0          3.6           1.4          0.2     setosa        1\n",
       "..            ...          ...           ...          ...        ...      ...\n",
       "145           6.7          3.0           5.2          2.3  virginica        2\n",
       "146           6.3          2.5           5.0          1.9  virginica        2\n",
       "147           6.5          3.0           5.2          2.0  virginica        2\n",
       "148           6.2          3.4           5.4          2.3  virginica        2\n",
       "149           5.9          3.0           5.1          1.8  virginica        2\n",
       "\n",
       "[150 rows x 6 columns]"
      ]
     },
     "execution_count": 31,
     "metadata": {},
     "output_type": "execute_result"
    }
   ],
   "source": [
    "df"
   ]
  },
  {
   "cell_type": "code",
   "execution_count": 36,
   "id": "4c495d51-82d8-4c1d-bd5f-e91143e1cad4",
   "metadata": {},
   "outputs": [
    {
     "data": {
      "text/plain": [
       "<Axes: xlabel='petal_length', ylabel='petal_width'>"
      ]
     },
     "execution_count": 36,
     "metadata": {},
     "output_type": "execute_result"
    },
    {
     "data": {
      "image/png": "[encoded data removed]",
      "text/plain": [
       "<Figure size 640x480 with 1 Axes>"
      ]
     },
     "metadata": {},
     "output_type": "display_data"
    }
   ],
   "source": [
    "sns.scatterplot(x=\"petal_length\", y=\"petal_width\", data=df, hue=\"cluster\", palette=[\"red\", \"green\", \"orange\"])\n",
    "sns.scatterplot(x=[Kmean.cluster_centers_[0][0]], y=[Kmean.cluster_centers_[0][1]], color=\"red\", marker=\"s\")\n",
    "sns.scatterplot(x=[Kmean.cluster_centers_[1][0]], y=[Kmean.cluster_centers_[1][1]], color=\"green\", marker=\"s\")\n",
    "sns.scatterplot(x=[Kmean.cluster_centers_[2][0]], y=[Kmean.cluster_centers_[2][1]], color=\"orange\", marker=\"s\")"
   ]
  },
  {
   "cell_type": "markdown",
   "id": "5c4d3cad-3670-428c-b624-830b18e39d66",
   "metadata": {},
   "source": [
    "Crucially, KMeans does not tell you what each cluster represents. In our case it is fairly obvious as we're working with a simple dataset (each cluster is the different species of iris), however with more complex data there can be quite a bit of difficulty around trying to interpret what your clusters mean. This is especially the case if you have multiple variables included in your KMeans algorithm. "
   ]
  },
  {
   "cell_type": "code",
   "execution_count": null,
   "id": "f3ce3173-1278-4aa2-a491-4dc0bebbffb5",
   "metadata": {},
   "outputs": [],
   "source": []
  }
 ],
 "metadata": {
  "kernelspec": {
   "display_name": "Python 3 (ipykernel)",
   "language": "python",
   "name": "python3"
  },
  "language_info": {
   "codemirror_mode": {
    "name": "ipython",
    "version": 3
   },
   "file_extension": ".py",
   "mimetype": "text/x-python",
   "name": "python",
   "nbconvert_exporter": "python",
   "pygments_lexer": "ipython3",
   "version": "3.9.16"
  }
 },
 "nbformat": 4,
 "nbformat_minor": 5
}
